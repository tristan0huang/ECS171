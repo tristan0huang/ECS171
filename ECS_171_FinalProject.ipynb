{
 "cells": [
  {
   "cell_type": "code",
   "execution_count": 3,
   "metadata": {},
   "outputs": [
    {
     "name": "stdout",
     "output_type": "stream",
     "text": [
      "         date   day    period  nswprice  nswdemand  vicprice  vicdemand  \\\n",
      "0      0.0000  b'2'  0.000000  0.056443   0.439155  0.003467   0.422915   \n",
      "1      0.0000  b'2'  0.021277  0.051699   0.415055  0.003467   0.422915   \n",
      "2      0.0000  b'2'  0.042553  0.051489   0.385004  0.003467   0.422915   \n",
      "3      0.0000  b'2'  0.063830  0.045485   0.314639  0.003467   0.422915   \n",
      "4      0.0000  b'2'  0.085106  0.042482   0.251116  0.003467   0.422915   \n",
      "...       ...   ...       ...       ...        ...       ...        ...   \n",
      "45307  0.9158  b'7'  0.914894  0.044224   0.340672  0.003033   0.255049   \n",
      "45308  0.9158  b'7'  0.936170  0.044884   0.355549  0.003072   0.241326   \n",
      "45309  0.9158  b'7'  0.957447  0.043593   0.340970  0.002983   0.247799   \n",
      "45310  0.9158  b'7'  0.978723  0.066651   0.329366  0.004630   0.345417   \n",
      "45311  0.9158  b'7'  1.000000  0.050679   0.288753  0.003542   0.355256   \n",
      "\n",
      "       transfer    class  \n",
      "0      0.414912    b'UP'  \n",
      "1      0.414912    b'UP'  \n",
      "2      0.414912    b'UP'  \n",
      "3      0.414912    b'UP'  \n",
      "4      0.414912  b'DOWN'  \n",
      "...         ...      ...  \n",
      "45307  0.405263  b'DOWN'  \n",
      "45308  0.420614  b'DOWN'  \n",
      "45309  0.362281  b'DOWN'  \n",
      "45310  0.206579    b'UP'  \n",
      "45311  0.231140  b'DOWN'  \n",
      "\n",
      "[45312 rows x 9 columns]\n"
     ]
    }
   ],
   "source": [
    "from scipy.io import arff\n",
    "import pandas as pd\n",
    "\n",
    "data = arff.loadarff(r\"C:\\ECS170\\ECS_171_FinalProject\\electricity-normalized.arff\")\n",
    "df = pd.DataFrame(data[0])\n",
    "print(df)"
   ]
  }
 ],
 "metadata": {
  "kernelspec": {
   "display_name": "Python 3",
   "language": "python",
   "name": "python3"
  },
  "language_info": {
   "codemirror_mode": {
    "name": "ipython",
    "version": 3
   },
   "file_extension": ".py",
   "mimetype": "text/x-python",
   "name": "python",
   "nbconvert_exporter": "python",
   "pygments_lexer": "ipython3",
   "version": "3.9.0"
  },
  "orig_nbformat": 4
 },
 "nbformat": 4,
 "nbformat_minor": 2
}
